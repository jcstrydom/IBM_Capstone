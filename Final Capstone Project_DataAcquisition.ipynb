{
    "nbformat_minor": 1, 
    "cells": [
        {
            "source": "# Final Project | Commute or Relocate... that is the question\n## Project description\n### Problem defintion\nJohannesburg and Pretoria are situated in the heart of Gauteng, a province in South Africa. These two cities have the highest populations and the highest number of job opportunities in the northern part of South Africa. They are also in relative close proximity to one another (+-50km apart centre to centre). \n\nWith the cities being spread over a large geographical area, many people tend to only operate in their familiar region of their own city that they know and trust. There are therefore a lot of misconceptions between these two cities. The effect is that when opportunity comes to work in a different area, or city, you do not relocate, but rather extend your daily commute.\n\nRecently, there has also been a warning from the government that this commute could increase considerably in the next few years, due to infrustructure development not being supported by the residents. _(Please see: https://www.timeslive.co.za/news/south-africa/2018-11-12-get-ready-for-a-six-hour-commute-from-joburg-to-pretoria/)_\n\n### Stakeholders\nThe main idea with this project is to analyse Johannesburg and Pretoria, using their municipal regions, house sales information as well as FourSquare venue data to cluster similar neighbourhoods. With this information it would be possible for people moving between the cities, to start considering relocation to similar neighbourhoods, rather than traffic.\n\n### Scope\nA problem with using clustering is that it is not clear why specific neighbourhoods would be similar, but with manual analysis it can be determined.\n\nFor the purpose of this analysis I will simply cluster the different neighbourhoods and display them on a physical map.\n\nI will then conclude with some findings from the analysis.", 
            "cell_type": "markdown", 
            "metadata": {}
        }, 
        {
            "source": "## Data aquisition\n### Johannesburg and Pretoria municiple regions\nThere was a census done in the year 2011, where the findings were quite well documented on the below link:\n> https://census2011.adrianfrith.com/place/7\n\nFrom this link I will only extract the official region detail and suburb information. This information I will then use to get the specific latitude and longitudes from the HERE geocoder API.\n\n### House sales information\nThere are a couple good online websites where houses are put of for rent and sale. I have identified _Private Property_ (see link below) as the website to be used for my data gathering as it has a cleaner design in the website layout:\n> https://www.privateproperty.co.za/\n\nThere is an abundance of data on this site and houses that are uploaded most recently are presented first. In order to level the playing fields I will sort the properties from cheapest to most expensive and will only include the following metrics:\n1. First 10 or less houses to be presented\n2. House price\n3. Number of bed rooms\n\n### FourSquare data\nThe venue data for the surounds will be retrieved from the FourSquare API. This data will give good insight into the services and businesses that are available in the nearby area for each location. On order do get the best indication for the services and businesses, I will be using the venue category data.", 
            "cell_type": "markdown", 
            "metadata": {}
        }, 
        {
            "execution_count": null, 
            "cell_type": "code", 
            "metadata": {}, 
            "outputs": [], 
            "source": ""
        }
    ], 
    "metadata": {
        "kernelspec": {
            "display_name": "Python 3.5", 
            "name": "python3", 
            "language": "python"
        }, 
        "language_info": {
            "mimetype": "text/x-python", 
            "nbconvert_exporter": "python", 
            "version": "3.5.5", 
            "name": "python", 
            "file_extension": ".py", 
            "pygments_lexer": "ipython3", 
            "codemirror_mode": {
                "version": 3, 
                "name": "ipython"
            }
        }
    }, 
    "nbformat": 4
}