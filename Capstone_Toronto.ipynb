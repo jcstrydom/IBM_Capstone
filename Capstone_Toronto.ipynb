{
    "nbformat_minor": 1, 
    "cells": [
        {
            "source": "# Exploring Toronto\nFor this project I will need postal codes for Canada. I will be scraping this from a Wikipedia sight:\n> https://en.wikipedia.org/wiki/List_of_postal_codes_of_Canada:_M\n\nI have downloaded this file onto my PC and then uploaded it as a data asset. I struggled a bit with using the file in the cloud environment, and for the sake of time I decided to only scrape the content direcly from the website.\n\nTo get the data from this website I will be learning much about a new library: **BeautifulSoup**.\nThe first step is to start understanding how to use the new library...", 
            "cell_type": "markdown", 
            "metadata": {
                "collapsed": true
            }
        }, 
        {
            "source": "### Beautiful Soup\nThe documentation for beautifulSoup is:\n> https://beautiful-soup-4.readthedocs.io/en/latest/\n\nHere is a tutorial video that I will be going through to understand it:\n> https://www.youtube.com/watch?v=ng2o98k983k\n\nThe video above starts with following pieces at the times specified below:\n1. Using a file (not in a cloud environment): [09:00]\n2. Website interactions: [20:00]", 
            "cell_type": "markdown", 
            "metadata": {}
        }, 
        {
            "source": "For the interest of time I will be looping all three installation steps into a single cell.\n##### Step1 - Installing beautifulSoup \nInstalling the HTML manipulater tool into my notebook. BeautifulSoup creates the parsertree structure, for the parser to interpret the file.\n##### Step2 - Installing an HTML parser\nInstalling the HTML parser. This is the part that interprets the parsed tree into a data structure.\n##### Step3 - Installing the RequestLib [for working with Web api's]\nInstalling the library to interact with api's", 
            "cell_type": "markdown", 
            "metadata": {}
        }, 
        {
            "execution_count": 1, 
            "cell_type": "code", 
            "metadata": {}, 
            "outputs": [
                {
                    "output_type": "stream", 
                    "name": "stdout", 
                    "text": "Fetching package metadata ...........\nSolving package specifications: .\n\nPackage plan for installation in environment /opt/conda/envs/DSX-Python35:\n\nThe following packages will be UPDATED:\n\n    beautifulsoup4: 4.6.0-py35h442a8c9_1 --> 4.6.3-py35_0\n\nbeautifulsoup4 100% |################################| Time: 0:00:00  39.93 MB/s\nFetching package metadata ...........\nSolving package specifications: .\n\nPackage plan for installation in environment /opt/conda/envs/DSX-Python35:\n\nThe following packages will be UPDATED:\n\n    libgcc-ng: 7.2.0-h7cc24e2_2     --> 8.2.0-hdf63c60_1    \n    libxml2:   2.9.4-h6b072ca_5     --> 2.9.8-hf84eae3_0    \n    libxslt:   1.1.29-hcf9102b_5    --> 1.1.33-h7d1a2b0_0   \n    lxml:      4.1.0-py35ha401a81_0 --> 4.2.5-py35hefd8a0e_0\n\nlibgcc-ng-8.2. 100% |################################| Time: 0:00:00  86.60 MB/s\nlibxml2-2.9.8- 100% |################################| Time: 0:00:00  67.37 MB/s\nlibxslt-1.1.33 100% |################################| Time: 0:00:00  62.60 MB/s\nlxml-4.2.5-py3 100% |################################| Time: 0:00:00  61.66 MB/s\nFetching package metadata ...........\nSolving package specifications: .\n\nPackage plan for installation in environment /opt/conda/envs/DSX-Python35:\n\nThe following packages will be UPDATED:\n\n    requests: 2.18.4-py35hb9e6ad1_1 --> 2.19.1-py35_0\n\nrequests-2.19. 100% |################################| Time: 0:00:00  35.10 MB/s\n"
                }
            ], 
            "source": "!conda install beautifulsoup4\n!conda install lxml\n!conda install requests"
        }, 
        {
            "source": "##### Step4 - Importing for use", 
            "cell_type": "markdown", 
            "metadata": {}
        }, 
        {
            "execution_count": 2, 
            "cell_type": "code", 
            "metadata": {}, 
            "outputs": [], 
            "source": "from bs4 import BeautifulSoup as bs\nimport requests as rq\nimport pandas as pd\nimport numpy as np"
        }, 
        {
            "source": "##### Step5 - Scraping the website\n**_Part A: pulling table._**\nIn the below cell I am merely pulling the table and putting it in an initial DataFrame. This df still has mulitple rows for a single postcode.", 
            "cell_type": "markdown", 
            "metadata": {}
        }, 
        {
            "execution_count": 3, 
            "cell_type": "code", 
            "metadata": {}, 
            "outputs": [], 
            "source": "source = rq.get('https://en.wikipedia.org/wiki/List_of_postal_codes_of_Canada:_M').text\nsoup = bs(source, 'lxml')\n\ntable = soup.table\n\ncolumn_names = []\nfor te in table.find_all('th'):\n    column_names.append(te.text)\n\n\n## Creating a blank dataframe\npostalCodes_DF = pd.DataFrame(columns = column_names)\n# postalCodes_DF\n\nfor i,te in enumerate(table.find_all('tr')):\n    if (te.td):\n        row_lst = te.text[:].split('\\n')\n        # Below: Eliminating the 'Not assigned'-rows\n        if row_lst[2] != 'Not assigned':\n            postcode = row_lst[1]\n            borough = row_lst[2]\n            # Below: Eliminating rows where 'Borough's are stipulated, but 'Neighbourhood's are 'Not assigned'\n            if row_lst[3] == 'Not assigned': \n                nhood = borough\n            else:\n                nhood = row_lst[3]\n\n            postalCodes_DF = postalCodes_DF.append({'Postcode': postcode,\n                                                    'Borough': borough,\n                                                    'Neighbourhood': nhood},ignore_index=True)\n\npc_DF = postalCodes_DF.drop(['Neighbourhood\\n'],1)\n# pc_DF.loc[pc_DF['Postcode'] == 'M5A']  # Checking M5A against the orignal table to make sure the table was drawn correctly"
        }, 
        {
            "source": "**_PartB - Removing duplicate rows (with csv's)_.** \nIn the below cell I merely join the 'Neighbourhood' values of multiple columns with a comma.", 
            "cell_type": "markdown", 
            "metadata": {}
        }, 
        {
            "execution_count": 4, 
            "cell_type": "code", 
            "metadata": {}, 
            "outputs": [
                {
                    "execution_count": 4, 
                    "metadata": {}, 
                    "data": {
                        "text/html": "<div>\n<style scoped>\n    .dataframe tbody tr th:only-of-type {\n        vertical-align: middle;\n    }\n\n    .dataframe tbody tr th {\n        vertical-align: top;\n    }\n\n    .dataframe thead th {\n        text-align: right;\n    }\n</style>\n<table border=\"1\" class=\"dataframe\">\n  <thead>\n    <tr style=\"text-align: right;\">\n      <th></th>\n      <th>Postcode</th>\n      <th>Borough</th>\n      <th>Neighbourhood</th>\n    </tr>\n  </thead>\n  <tbody>\n    <tr>\n      <th>85</th>\n      <td>M7A</td>\n      <td>Queen's Park</td>\n      <td>Queen's Park</td>\n    </tr>\n  </tbody>\n</table>\n</div>", 
                        "text/plain": "   Postcode       Borough Neighbourhood\n85      M7A  Queen's Park  Queen's Park"
                    }, 
                    "output_type": "execute_result"
                }
            ], 
            "source": "# Getting the Neighbourhoods with the same postcodes comma separated\nnew_pc_DF = pc_DF.groupby(['Postcode','Borough'])['Neighbourhood'].apply(','.join)\nnew_pc_DF = new_pc_DF.to_frame().reset_index()\nnew_pc_DF.loc[new_pc_DF['Postcode'] == 'M7A']\n# ['Postcode'] == 'M7A'\n# type(new_pc_DF)"
        }, 
        {
            "execution_count": 5, 
            "cell_type": "code", 
            "metadata": {}, 
            "outputs": [
                {
                    "execution_count": 5, 
                    "metadata": {}, 
                    "data": {
                        "text/html": "<div>\n<style scoped>\n    .dataframe tbody tr th:only-of-type {\n        vertical-align: middle;\n    }\n\n    .dataframe tbody tr th {\n        vertical-align: top;\n    }\n\n    .dataframe thead th {\n        text-align: right;\n    }\n</style>\n<table border=\"1\" class=\"dataframe\">\n  <thead>\n    <tr style=\"text-align: right;\">\n      <th></th>\n      <th>Postcode</th>\n      <th>Borough</th>\n      <th>Neighbourhood</th>\n    </tr>\n  </thead>\n  <tbody>\n    <tr>\n      <th>0</th>\n      <td>M1B</td>\n      <td>Scarborough</td>\n      <td>Rouge,Malvern</td>\n    </tr>\n    <tr>\n      <th>1</th>\n      <td>M1C</td>\n      <td>Scarborough</td>\n      <td>Highland Creek,Rouge Hill,Port Union</td>\n    </tr>\n    <tr>\n      <th>2</th>\n      <td>M1E</td>\n      <td>Scarborough</td>\n      <td>Guildwood,Morningside,West Hill</td>\n    </tr>\n    <tr>\n      <th>3</th>\n      <td>M1G</td>\n      <td>Scarborough</td>\n      <td>Woburn</td>\n    </tr>\n    <tr>\n      <th>4</th>\n      <td>M1H</td>\n      <td>Scarborough</td>\n      <td>Cedarbrae</td>\n    </tr>\n    <tr>\n      <th>5</th>\n      <td>M1J</td>\n      <td>Scarborough</td>\n      <td>Scarborough Village</td>\n    </tr>\n    <tr>\n      <th>6</th>\n      <td>M1K</td>\n      <td>Scarborough</td>\n      <td>East Birchmount Park,Ionview,Kennedy Park</td>\n    </tr>\n    <tr>\n      <th>7</th>\n      <td>M1L</td>\n      <td>Scarborough</td>\n      <td>Clairlea,Golden Mile,Oakridge</td>\n    </tr>\n    <tr>\n      <th>8</th>\n      <td>M1M</td>\n      <td>Scarborough</td>\n      <td>Cliffcrest,Cliffside,Scarborough Village West</td>\n    </tr>\n    <tr>\n      <th>9</th>\n      <td>M1N</td>\n      <td>Scarborough</td>\n      <td>Birch Cliff,Cliffside West</td>\n    </tr>\n  </tbody>\n</table>\n</div>", 
                        "text/plain": "  Postcode      Borough                                  Neighbourhood\n0      M1B  Scarborough                                  Rouge,Malvern\n1      M1C  Scarborough           Highland Creek,Rouge Hill,Port Union\n2      M1E  Scarborough                Guildwood,Morningside,West Hill\n3      M1G  Scarborough                                         Woburn\n4      M1H  Scarborough                                      Cedarbrae\n5      M1J  Scarborough                            Scarborough Village\n6      M1K  Scarborough      East Birchmount Park,Ionview,Kennedy Park\n7      M1L  Scarborough                  Clairlea,Golden Mile,Oakridge\n8      M1M  Scarborough  Cliffcrest,Cliffside,Scarborough Village West\n9      M1N  Scarborough                     Birch Cliff,Cliffside West"
                    }, 
                    "output_type": "execute_result"
                }
            ], 
            "source": "new_pc_DF.head(10)"
        }, 
        {
            "execution_count": 8, 
            "cell_type": "code", 
            "metadata": {}, 
            "outputs": [
                {
                    "output_type": "stream", 
                    "name": "stdout", 
                    "text": "The shape of the DF is: (103, 3)\n"
                }
            ], 
            "source": "print(('The shape of the DF is: {}').format(new_pc_DF.shape))"
        }, 
        {
            "execution_count": null, 
            "cell_type": "code", 
            "metadata": {}, 
            "outputs": [], 
            "source": ""
        }
    ], 
    "metadata": {
        "kernelspec": {
            "display_name": "Python 3.5", 
            "name": "python3", 
            "language": "python"
        }, 
        "language_info": {
            "mimetype": "text/x-python", 
            "nbconvert_exporter": "python", 
            "version": "3.5.5", 
            "name": "python", 
            "file_extension": ".py", 
            "pygments_lexer": "ipython3", 
            "codemirror_mode": {
                "version": 3, 
                "name": "ipython"
            }
        }
    }, 
    "nbformat": 4
}