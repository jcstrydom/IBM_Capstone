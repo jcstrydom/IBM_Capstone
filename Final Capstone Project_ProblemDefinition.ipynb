{
    "nbformat_minor": 1, 
    "cells": [
        {
            "source": "# Final Project | Commute or Relocate... that is the question\n## Project description\n### Problem defintion\nJohannesburg and Pretoria are situated in the heart of Gauteng, a province in South Africa. These two cities have the highest populations and the highest number of job opportunities in the northern part of South Africa. They are also in relative close proximity to one another (+-50km apart centre to centre). \n\nWith the cities being spread over a large geographical area, many people tend to only operate in their familiar region of their own city that they know and trust. There are therefore a lot of misconceptions between these two cities. The effect is that when opportunity comes to work in a different area, or city, you do not relocate, but rather extend your daily commute.\n\nRecently, there has also been a warning from the government that this commute could increase considerably in the next few years, due to infrustructure development not being supported by the residents. _(Please see: https://www.timeslive.co.za/news/south-africa/2018-11-12-get-ready-for-a-six-hour-commute-from-joburg-to-pretoria/)_\n\n### Stakeholders\nThe main idea with this project is to analyse Johannesburg and Pretoria, using their municipal regions, house sales information as well as FourSquare venue data to cluster similar neighbourhoods. With this information it would be possible for people moving between the cities, to start considering relocation to similar neighbourhoods, rather than traffic.\n\n### Scope\nA problem with using clustering is that it is not clear why specific neighbourhoods would be similar, but with manual analysis it can be determined.\n\nFor the purpose of this analysis I will simply cluster the different neighbourhoods and display them on a physical map.\n\nI will then conclude with some findings from the analysis.", 
            "cell_type": "markdown", 
            "metadata": {}
        }, 
        {
            "execution_count": null, 
            "cell_type": "code", 
            "metadata": {}, 
            "outputs": [], 
            "source": ""
        }
    ], 
    "metadata": {
        "kernelspec": {
            "display_name": "Python 3.5", 
            "name": "python3", 
            "language": "python"
        }, 
        "language_info": {
            "mimetype": "text/x-python", 
            "nbconvert_exporter": "python", 
            "version": "3.5.5", 
            "name": "python", 
            "file_extension": ".py", 
            "pygments_lexer": "ipython3", 
            "codemirror_mode": {
                "version": 3, 
                "name": "ipython"
            }
        }
    }, 
    "nbformat": 4
}