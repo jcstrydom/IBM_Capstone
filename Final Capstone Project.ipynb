{
    "nbformat_minor": 1, 
    "cells": [
        {
            "source": "# Final Project: Joburg and P-Town BFFs\n## Project description\n### Problem defintion\nJohannesburg _(a.k.a. Joburg, Jozie)_ and Pretoria _(a.k.a P-town)_ are situated in the heart of Gauteng, a province in South Africa. These two cities have the highest populations and the highest number of job opportunities in the northern part of South Africa. They are also in relative close proximity to one another (+-50km apart centre to centre). \n\nWith the cities being spread over a large geographical area, many people tend to only operate in their region of their own city that they know and trust. There are therefore a lot of misconceptions between these two cities. The effect is that when opportunity comes to work in a different area, or city, you do not relocate, but rather extend your daily commute.\n\nRecently, there has also been a warning from the government that this commute could increase considerably in the next few years, due to infrustructure development not being supported by the residents. _(Please see: https://www.timeslive.co.za/news/south-africa/2018-11-12-get-ready-for-a-six-hour-commute-from-joburg-to-pretoria/)_\n\n### Stakeholders\nThe main idea with this project is to analyse Johannesburg and Pretoria, using their municipal regions, house sales information as well as FourSquare venue data to cluster similar neighbourhoods. With this information it would be possible for people moving between the cities, to start considering relocation to similar neighbourhoods, rather than traffic.\n\n### Scope\nA problem with using clustering is that it is not clear why specific neighbourhoods would be similar, but with manual analysis it can be determined.\n\n\nFor the purpose of this analysis I will simply cluster the different neighbourhoods and display them on a physical map.", 
            "cell_type": "markdown", 
            "metadata": {}
        }, 
        {
            "source": "## Data aquisition\n### Finding Johannesburg Regions\nIt took me a while to find a list of municipal regions as most links feed into tourism regions. South Africa is a country with a struggling economy, and therefore a massive drive to boost our tourism on the back of our biodiversity and recent history.\n\nI have however found a wikipedia page that has provided sufficient names for the proposed analysis to be done.", 
            "cell_type": "markdown", 
            "metadata": {}
        }, 
        {
            "execution_count": null, 
            "cell_type": "code", 
            "metadata": {}, 
            "outputs": [], 
            "source": ""
        }, 
        {
            "execution_count": null, 
            "cell_type": "code", 
            "metadata": {}, 
            "outputs": [], 
            "source": ""
        }, 
        {
            "execution_count": null, 
            "cell_type": "code", 
            "metadata": {}, 
            "outputs": [], 
            "source": ""
        }, 
        {
            "execution_count": null, 
            "cell_type": "code", 
            "metadata": {}, 
            "outputs": [], 
            "source": ""
        }, 
        {
            "execution_count": null, 
            "cell_type": "code", 
            "metadata": {}, 
            "outputs": [], 
            "source": ""
        }, 
        {
            "execution_count": null, 
            "cell_type": "code", 
            "metadata": {}, 
            "outputs": [], 
            "source": ""
        }, 
        {
            "execution_count": null, 
            "cell_type": "code", 
            "metadata": {}, 
            "outputs": [], 
            "source": ""
        }, 
        {
            "execution_count": null, 
            "cell_type": "code", 
            "metadata": {}, 
            "outputs": [], 
            "source": ""
        }, 
        {
            "execution_count": null, 
            "cell_type": "code", 
            "metadata": {}, 
            "outputs": [], 
            "source": ""
        }, 
        {
            "execution_count": null, 
            "cell_type": "code", 
            "metadata": {}, 
            "outputs": [], 
            "source": ""
        }, 
        {
            "source": "# HERE Geocoding API\nI am using the HERE geocoding REST API to get the latlongs of the municiple regions in Johannesburg", 
            "cell_type": "markdown", 
            "metadata": {
                "collapsed": true
            }
        }, 
        {
            "execution_count": 4, 
            "cell_type": "code", 
            "metadata": {}, 
            "outputs": [], 
            "source": "import json\nimport requests"
        }, 
        {
            "execution_count": 1, 
            "cell_type": "code", 
            "metadata": {}, 
            "outputs": [], 
            "source": "HERE_ID = 'PvgvJLvPYXWznD9Hv5XI'\nHERE_CODE = 'UcZQhIG4bRgm6lQ7McSwcg'"
        }, 
        {
            "execution_count": 2, 
            "cell_type": "code", 
            "metadata": {}, 
            "outputs": [
                {
                    "output_type": "stream", 
                    "name": "stdout", 
                    "text": "alexandra%20johannesburg%20south%20africa\n"
                }
            ], 
            "source": "# search_txt = '200%20S%20Mathilda%20Sunnyvale%20CA'\nsch_txt = 'alexandra johannesburg south africa'\nsearch_txt = sch_txt.replace(' ','%20')\nprint(search_txt)"
        }, 
        {
            "execution_count": 3, 
            "cell_type": "code", 
            "metadata": {}, 
            "outputs": [
                {
                    "output_type": "stream", 
                    "name": "stdout", 
                    "text": "https://geocoder.api.here.com/6.2/geocode.json?app_id=PvgvJLvPYXWznD9Hv5XI&app_code=UcZQhIG4bRgm6lQ7McSwcg&searchtext=alexandra%20johannesburg%20south%20africa\n"
                }
            ], 
            "source": "url = 'https://geocoder.api.here.com/6.2/geocode.json?app_id={h_id}&app_code={h_cde}&searchtext={stxt}'.format(h_id=HERE_ID,h_cde=HERE_CODE,stxt=search_txt)\nprint(url)"
        }, 
        {
            "execution_count": 5, 
            "cell_type": "code", 
            "metadata": {}, 
            "outputs": [], 
            "source": "response = requests.get(url).json()"
        }, 
        {
            "execution_count": 6, 
            "cell_type": "code", 
            "metadata": {}, 
            "outputs": [
                {
                    "output_type": "stream", 
                    "name": "stdout", 
                    "text": "<class 'dict'>\n{'Response': {'View': [{'_type': 'SearchResultsViewType', 'ViewId': 0, 'Result': [{'Relevance': 1.0, 'MatchQuality': {'Country': 1.0, 'City': 1.0, 'District': 1.0}, 'Location': {'MapView': {'TopLeft': {'Longitude': 28.08554, 'Latitude': -26.09606}, 'BottomRight': {'Longitude': 28.11303, 'Latitude': -26.11617}}, 'DisplayPosition': {'Longitude': 28.09861, 'Latitude': -26.10538}, 'Address': {'Country': 'ZAF', 'City': 'Johannesburg', 'PostalCode': '2090', 'State': 'Gauteng', 'District': 'Alexandra', 'County': 'Johannesburg', 'AdditionalData': [{'value': 'South Africa', 'key': 'CountryName'}, {'value': 'Gauteng', 'key': 'StateName'}, {'value': 'Johannesburg', 'key': 'CountyName'}], 'Label': 'Alexandra, Johannesburg, Gauteng, South Africa'}, 'LocationType': 'point', 'NavigationPosition': [{'Longitude': 28.09861, 'Latitude': -26.10538}], 'LocationId': 'NT_tbDWWb9tOlqt2a14m.iGpD'}, 'MatchLevel': 'district'}]}], 'MetaInfo': {'Timestamp': '2019-04-04T19:31:11.858+0000'}}}\n"
                }
            ], 
            "source": "print(type(response))\nprint(response)"
        }, 
        {
            "execution_count": 7, 
            "cell_type": "code", 
            "metadata": {}, 
            "outputs": [
                {
                    "execution_count": 7, 
                    "metadata": {}, 
                    "data": {
                        "text/plain": "{'Latitude': -26.10538, 'Longitude': 28.09861}"
                    }, 
                    "output_type": "execute_result"
                }
            ], 
            "source": "response['Response']['View'][0]['Result'][0]['Location']['DisplayPosition']"
        }, 
        {
            "execution_count": 8, 
            "cell_type": "code", 
            "metadata": {}, 
            "outputs": [
                {
                    "output_type": "stream", 
                    "name": "stdout", 
                    "text": "alexandra johannesburg south africa:\nLatitude: 28.09861\nLongitude: -26.10538\n"
                }
            ], 
            "source": "lat,lng = response['Response']['View'][0]['Result'][0]['Location']['DisplayPosition'].values()\nprint(('{st}:\\nLatitude: {lat}\\nLongitude: {lng}').format(st=sch_txt,lat=lat,lng=lng))"
        }, 
        {
            "execution_count": null, 
            "cell_type": "code", 
            "metadata": {}, 
            "outputs": [], 
            "source": ""
        }
    ], 
    "metadata": {
        "kernelspec": {
            "display_name": "Python 3.5", 
            "name": "python3", 
            "language": "python"
        }, 
        "language_info": {
            "mimetype": "text/x-python", 
            "nbconvert_exporter": "python", 
            "version": "3.5.5", 
            "name": "python", 
            "file_extension": ".py", 
            "pygments_lexer": "ipython3", 
            "codemirror_mode": {
                "version": 3, 
                "name": "ipython"
            }
        }
    }, 
    "nbformat": 4
}